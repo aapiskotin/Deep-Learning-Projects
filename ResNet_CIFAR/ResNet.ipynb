{
 "cells": [
  {
   "cell_type": "code",
   "execution_count": 3,
   "metadata": {
    "collapsed": true
   },
   "outputs": [],
   "source": [
    "%matplotlib inline"
   ]
  },
  {
   "cell_type": "code",
   "execution_count": 4,
   "metadata": {},
   "outputs": [
    {
     "name": "stderr",
     "output_type": "stream",
     "text": [
      "/home/a.piskotin/anaconda3/lib/python3.6/site-packages/sklearn/utils/fixes.py:313: FutureWarning: numpy not_equal will not check object identity in the future. The comparison did not return the same result as suggested by the identity (`is`)) and will change.\n",
      "  _nan_object_mask = _nan_object_array != _nan_object_array\n"
     ]
    }
   ],
   "source": [
    "import torch\n",
    "import torch.optim as optim\n",
    "\n",
    "import torch.nn as nn\n",
    "import torch.nn.functional as F\n",
    "\n",
    "from sklearn.metrics import accuracy_score\n",
    "import sklearn.model_selection\n",
    "\n",
    "import numpy as np\n",
    "import PIL\n",
    "import random\n",
    "from IPython.core.display import Image, display\n",
    "\n",
    "import matplotlib.pyplot as plt"
   ]
  },
  {
   "cell_type": "code",
   "execution_count": 5,
   "metadata": {},
   "outputs": [],
   "source": [
    "DEVICE_ID = 2\n",
    "DEVICE = torch.device('cuda:%d' % DEVICE_ID)\n",
    "torch.cuda.set_device(DEVICE_ID)"
   ]
  },
  {
   "cell_type": "code",
   "execution_count": 7,
   "metadata": {
    "collapsed": true
   },
   "outputs": [],
   "source": [
    "np.random.seed(648)\n",
    "\n",
    "def data2image(data):\n",
    "    res = np.transpose(np.reshape(data ,(3, 32,32)), (1,2,0))\n",
    "    return PIL.Image.fromarray(np.uint8(res))\n",
    "\n",
    "def imshow(img):\n",
    "    if isinstance(img, torch.Tensor): img = img.numpy().astype('uint8')\n",
    "    plt.imshow(np.transpose(img, (1, 2, 0)))\n",
    "    \n",
    "def prediction2classes(output_var):\n",
    "    _, predicted = torch.max(output_var.data, 1)\n",
    "    predicted.squeeze_()\n",
    "    classes = predicted.tolist()\n",
    "    return classes\n",
    "\n",
    "def make_solution_pytorch(net, input_tensor, a_batch_size):\n",
    "    res = []\n",
    "    net = net.eval()\n",
    "    cur_pos = 0\n",
    "    while cur_pos <= len(input_tensor):\n",
    "        outputs = net(input_tensor[cur_pos:cur_pos+a_batch_size])\n",
    "        res += prediction2classes(outputs)\n",
    "        cur_pos += a_batch_size\n",
    "    return res"
   ]
  },
  {
   "cell_type": "code",
   "execution_count": 8,
   "metadata": {
    "collapsed": true
   },
   "outputs": [],
   "source": [
    "from torch.utils.data import Dataset, DataLoader\n",
    "from torchvision import transforms, utils\n",
    "from PIL import Image\n",
    "\n",
    "class CifarDataset(Dataset):\n",
    "    def __init__(self, input_path, is_train=True, transform=None, is_valid=False):\n",
    "                        \n",
    "        data = np.load(input_path)\n",
    "        if is_train: \n",
    "            data = np.random.permutation(data)\n",
    "            data_valid = data[:(data.shape[0] // 10)]\n",
    "            data_train = data[(data.shape[0] // 10) :]\n",
    "            data = data_valid if is_valid else data_train\n",
    "            self.Y, self.X = np.hsplit(data, [1]) \n",
    "            self.Y = [item[0] for item in self.Y]\n",
    "        else: \n",
    "            self.X = data\n",
    "            self.Y = None\n",
    "            \n",
    "        self.X = self.X.reshape((self.X.shape[0], 3, 32, 32))\n",
    "        self.X = self.X.transpose((0, 2, 3, 1)) #приводим к виду (N, H, W, C)\n",
    "        self.X = [Image.fromarray(img) for img in self.X]\n",
    "                \n",
    "        self.transform = transform\n",
    "\n",
    "    def __len__(self):\n",
    "        return len(self.X)\n",
    "\n",
    "    def __getitem__(self, idx):\n",
    "        \n",
    "        sample = self.X[idx]\n",
    "\n",
    "        if self.transform: sample = self.transform(sample)\n",
    "\n",
    "        if self.Y is None: return sample\n",
    "        else: return (sample, self.Y[idx])"
   ]
  },
  {
   "cell_type": "code",
   "execution_count": 9,
   "metadata": {
    "collapsed": true
   },
   "outputs": [],
   "source": [
    "#Надо поменять пути на свои до файлов с kaggle\n",
    "DATA_PATH  = ''\n",
    "train_path = 'homework_4.train.npy'\n",
    "test_path  = 'homework_4_no_classes.test.npy'"
   ]
  },
  {
   "cell_type": "code",
   "execution_count": 10,
   "metadata": {},
   "outputs": [],
   "source": [
    "np_mean = np.mean([item[0].numpy() for item in CifarDataset(DATA_PATH + train_path, transform=transforms.ToTensor())], axis=(0,2,3))\n",
    "np_std = np.std([item[0].numpy() for item in CifarDataset(DATA_PATH + train_path, transform=transforms.ToTensor())], axis=(0,2,3))"
   ]
  },
  {
   "cell_type": "code",
   "execution_count": 11,
   "metadata": {},
   "outputs": [
    {
     "data": {
      "text/plain": [
       "(3,)"
      ]
     },
     "execution_count": 11,
     "metadata": {},
     "output_type": "execute_result"
    }
   ],
   "source": [
    "np_mean.shape"
   ]
  },
  {
   "cell_type": "code",
   "execution_count": 12,
   "metadata": {
    "collapsed": true
   },
   "outputs": [],
   "source": [
    "cifar_transform_norm = transforms.Compose([\n",
    "    transforms.Pad(4),\n",
    "    transforms.RandomCrop(32),\n",
    "    transforms.RandomHorizontalFlip(),\n",
    "    transforms.ToTensor(),\n",
    "    transforms.Normalize(torch.FloatTensor(np_mean), torch.FloatTensor(np_std))\n",
    "]\n",
    ")\n",
    "\n",
    "cifar_test_transform_norm = transforms.Compose([    \n",
    "    transforms.ToTensor(),\n",
    "    transforms.Normalize(torch.FloatTensor(np_mean), torch.FloatTensor(np_std))\n",
    "]\n",
    ")"
   ]
  },
  {
   "cell_type": "code",
   "execution_count": 13,
   "metadata": {},
   "outputs": [],
   "source": [
    "dataset_train_norm = CifarDataset(DATA_PATH + train_path, transform=cifar_transform_norm)\n",
    "dataloader_train_norm = DataLoader(dataset_train_norm, batch_size=128,\n",
    "                        shuffle=True, num_workers=4)\n",
    "\n",
    "dataset_valid_norm = CifarDataset(DATA_PATH + train_path, transform=cifar_test_transform_norm, is_valid=True)\n",
    "dataloader_valid_norm = DataLoader(dataset_valid_norm, batch_size=128, shuffle=False, num_workers=1)\n",
    "\n",
    "dataset_test_norm = CifarDataset(DATA_PATH + test_path, is_train=False, transform=cifar_test_transform_norm)\n",
    "dataloader_test_norm = DataLoader(dataset_test_norm, batch_size=128,\n",
    "                        shuffle=False, num_workers=1)\n",
    "\n",
    "\n",
    "def train_network(a_net, \n",
    "                  a_device,\n",
    "                  dataloader_train_norm=dataloader_train_norm,\n",
    "                  a_epochs=100,\n",
    "                  a_batch_size=128,\n",
    "                  a_lr=0.1):\n",
    "    \n",
    "    train_acc = []\n",
    "    valid_acc = []\n",
    "    net = a_net.to(a_device)\n",
    "\n",
    "    criterion = nn.CrossEntropyLoss()\n",
    "    optimizer = torch.optim.SGD(a_net.parameters(), lr=a_lr, weight_decay=0.0001, momentum=0.9)\n",
    "    \n",
    "    for epoch in range(a_epochs):  # loop over the dataset multiple times\n",
    "        if epoch == 50:\n",
    "            optimizer = torch.optim.SGD(a_net.parameters(), lr=a_lr/10, weight_decay=0.0001, momentum=0.9) \n",
    "        elif epoch == 75:\n",
    "            optimizer = torch.optim.SGD(a_net.parameters(), lr=a_lr/100, weight_decay=0.0001, momentum=0.9) \n",
    "        \n",
    "        net = net.train()        \n",
    "        epoch_accuracy = 0.0\n",
    "        epoch_iters = 0\n",
    "        for item in dataloader_train_norm:\n",
    "            \n",
    "            epoch_iters += 1\n",
    "\n",
    "            inputs = item[0].to(a_device)\n",
    "            labels = item[1].long().to(a_device)\n",
    "\n",
    "            # zero the parameter gradients\n",
    "            optimizer.zero_grad()\n",
    "\n",
    "            # forward + backward + optimize\n",
    "            outputs = net(inputs)\n",
    "            loss = criterion(outputs, labels)\n",
    "            loss.backward()\n",
    "            optimizer.step()\n",
    "\n",
    "            epoch_accuracy += accuracy_score(labels, prediction2classes(outputs))\n",
    "\n",
    "        epoch_accuracy /= epoch_iters\n",
    "        train_acc.append(epoch_accuracy)\n",
    "        \n",
    "        net = net.eval()        \n",
    "        epoch_accuracy = 0.0\n",
    "        epoch_iters = 0\n",
    "        for item in dataloader_valid_norm:\n",
    "            epoch_iters += 1\n",
    "\n",
    "            inputs = item[0].to(a_device)\n",
    "            labels = item[1].long().to(a_device)\n",
    "\n",
    "            outputs = net(inputs)\n",
    "            \n",
    "            epoch_accuracy += accuracy_score(labels, prediction2classes(outputs))\n",
    "\n",
    "        epoch_accuracy /= epoch_iters\n",
    "        valid_acc.append(epoch_accuracy)\n",
    "        \n",
    "        print(\"Epoch \", epoch, round(train_acc[-1], 4), valid_acc[-1])\n",
    "\n",
    "    print('Finished Training')\n",
    "    \n",
    "    plt.plot(train_acc, label='Train')\n",
    "    plt.plot(valid_acc, label='Test')\n",
    "    plt.legend()\n",
    "    plt.grid()"
   ]
  },
  {
   "cell_type": "code",
   "execution_count": 14,
   "metadata": {
    "collapsed": true
   },
   "outputs": [],
   "source": [
    "DOWNSAMPLE_COEF = 2\n",
    "\n",
    "def conv3x3(a_in_planes, a_out_planes, a_stride=1):\n",
    "    \"\"\"\n",
    "    Основной строительный блок конволюций для ResNet\n",
    "    Включает в себя padding=1 - чтобы размерность сохранялась после его применения\n",
    "    \"\"\"\n",
    "    return nn.Conv2d(a_in_planes, a_out_planes,  stride=a_stride,\n",
    "                     kernel_size=3, padding=1, bias=False)\n",
    "\n",
    "def x_downsample(a_in_channels):\n",
    "     return nn.Conv2d(a_in_channels, \n",
    "               a_in_channels*DOWNSAMPLE_COEF,\n",
    "               kernel_size=1,\n",
    "               stride=DOWNSAMPLE_COEF,\n",
    "               bias=False)"
   ]
  },
  {
   "cell_type": "code",
   "execution_count": 15,
   "metadata": {
    "collapsed": true
   },
   "outputs": [],
   "source": [
    "class CifarResidualBlock(nn.Module):\n",
    "    def __init__(self, a_in_channels, make_downsample=False, use_skip_connection=True):\n",
    "        super(CifarResidualBlock, self).__init__()\n",
    "        self.use_skip_connection = use_skip_connection\n",
    "        \n",
    "        if make_downsample: coef = DOWNSAMPLE_COEF\n",
    "        else: coef = 1  \n",
    "            \n",
    "        self.make_downsample = make_downsample\n",
    "        a_out_channels = a_in_channels * coef\n",
    "        if make_downsample:\n",
    "            self.conv1 = conv3x3(a_in_channels, a_out_channels, a_stride=DOWNSAMPLE_COEF)\n",
    "        else:\n",
    "            self.conv1 = conv3x3(a_in_channels, a_out_channels)\n",
    "        self.bn1 = nn.BatchNorm2d(a_out_channels)\n",
    "        self.relu1 = nn.ReLU()\n",
    "        self.conv2 = conv3x3(a_out_channels, a_out_channels)\n",
    "        self.bn2 = nn.BatchNorm2d(a_out_channels)\n",
    "        self.relu2 = nn.ReLU()\n",
    "            \n",
    "    def forward(self, x):\n",
    "        fx = self.conv1(x)\n",
    "        fx = self.bn1(fx)\n",
    "        fx = self.relu1(fx)\n",
    "        fx = self.conv2(fx)\n",
    "        fx = self.bn2(fx)\n",
    "        fx = self.relu2(fx)\n",
    "        if self.make_downsample:\n",
    "            x_ds = x_downsample(x.size()[1])\n",
    "            x_ds = x_ds.to(DEVICE)\n",
    "            x = x_ds(x)\n",
    "        if self.use_skip_connection:\n",
    "            fx += x\n",
    "        \n",
    "        return fx"
   ]
  },
  {
   "cell_type": "code",
   "execution_count": 33,
   "metadata": {},
   "outputs": [],
   "source": [
    "class CifarResNet(nn.Module):\n",
    "    \n",
    "    def __init__(self):\n",
    "        super(CifarResNet, self).__init__()\n",
    "        \n",
    "        self.features = nn.Sequential()\n",
    "        self.features.add_module(\"conv_more_chans\", conv3x3(3, 32))\n",
    "        self.features.add_module('res_block32_1', CifarResidualBlock(32))\n",
    "        self.features.add_module('res_block32_2', CifarResidualBlock(32))\n",
    "        self.features.add_module('res_block32_3', CifarResidualBlock(32))\n",
    "        self.features.add_module('res_block32_4', CifarResidualBlock(32))\n",
    "        self.features.add_module('res_block32_ds', CifarResidualBlock(32, make_downsample=True))\n",
    "        self.features.add_module('res_block64_2', CifarResidualBlock(64))\n",
    "        self.features.add_module('res_block64_3', CifarResidualBlock(64))\n",
    "        self.features.add_module('res_block64_4', CifarResidualBlock(64))\n",
    "        self.features.add_module('res_block64_5', CifarResidualBlock(64))\n",
    "        self.features.add_module('res_block64_6', CifarResidualBlock(64))\n",
    "        \n",
    "        self.global_avg_pooling = nn.AvgPool2d(kernel_size=16)\n",
    "        self.fc_classifier = nn.Linear(64, 100)\n",
    "        \n",
    "    def forward(self, x):\n",
    "        x = self.features(x)\n",
    "        x = self.global_avg_pooling(x)        \n",
    "        x = x.view((x.size()[0], -1))        \n",
    "        x = self.fc_classifier(x)        \n",
    "        return x"
   ]
  },
  {
   "cell_type": "code",
   "execution_count": 34,
   "metadata": {},
   "outputs": [
    {
     "data": {
      "text/plain": [
       "1792.0"
      ]
     },
     "execution_count": 34,
     "metadata": {},
     "output_type": "execute_result"
    }
   ],
   "source": [
    "(4*32*32*32 + 6*64*16*16)*8 / 1024"
   ]
  },
  {
   "cell_type": "code",
   "execution_count": 35,
   "metadata": {},
   "outputs": [
    {
     "name": "stdout",
     "output_type": "stream",
     "text": [
      "Epoch  0 0.061 0.086328125\n",
      "Epoch  1 0.1218 0.1216796875\n",
      "Epoch  2 0.1803 0.148046875\n",
      "Epoch  3 0.2248 0.184765625\n",
      "Epoch  4 0.2564 0.1919921875\n",
      "Epoch  5 0.2956 0.234375\n",
      "Epoch  6 0.3244 0.2412109375\n",
      "Epoch  7 0.3508 0.3208984375\n",
      "Epoch  8 0.3774 0.346875\n",
      "Epoch  9 0.3982 0.348046875\n",
      "Epoch  10 0.4173 0.362890625\n",
      "Epoch  11 0.4317 0.3939453125\n",
      "Epoch  12 0.4373 0.3892578125\n",
      "Epoch  13 0.4545 0.389453125\n",
      "Epoch  14 0.4623 0.433984375\n",
      "Epoch  15 0.4715 0.4123046875\n",
      "Epoch  16 0.4834 0.4212890625\n",
      "Epoch  17 0.4916 0.3728515625\n",
      "Epoch  18 0.5024 0.451171875\n",
      "Epoch  19 0.5057 0.4533203125\n",
      "Epoch  20 0.5104 0.4513671875\n",
      "Epoch  21 0.5147 0.476171875\n",
      "Epoch  22 0.5222 0.481640625\n",
      "Epoch  23 0.5293 0.5017578125\n",
      "Epoch  24 0.5344 0.4841796875\n",
      "Epoch  25 0.5424 0.5166015625\n",
      "Epoch  26 0.5446 0.487890625\n",
      "Epoch  27 0.546 0.4935546875\n",
      "Epoch  28 0.5503 0.5056640625\n",
      "Epoch  29 0.5554 0.494140625\n",
      "Epoch  30 0.5554 0.5255859375\n",
      "Epoch  31 0.5544 0.4921875\n",
      "Epoch  32 0.5551 0.5041015625\n",
      "Epoch  33 0.5616 0.517578125\n",
      "Epoch  34 0.5678 0.5125\n",
      "Epoch  35 0.573 0.50078125\n",
      "Epoch  36 0.571 0.5236328125\n",
      "Epoch  37 0.5739 0.530078125\n",
      "Epoch  38 0.5797 0.5107421875\n",
      "Epoch  39 0.5832 0.51015625\n",
      "Epoch  40 0.582 0.5095703125\n",
      "Epoch  41 0.5837 0.53359375\n",
      "Epoch  42 0.5892 0.5576171875\n",
      "Epoch  43 0.5833 0.51875\n",
      "Epoch  44 0.5941 0.526953125\n",
      "Epoch  45 0.5899 0.5185546875\n",
      "Epoch  46 0.5957 0.54140625\n",
      "Epoch  47 0.5923 0.5232421875\n",
      "Epoch  48 0.5973 0.5330078125\n",
      "Epoch  49 0.599 0.5125\n",
      "Epoch  50 0.7055 0.7162109375\n",
      "Epoch  51 0.7273 0.7177734375\n",
      "Epoch  52 0.7369 0.73515625\n",
      "Epoch  53 0.7429 0.741796875\n",
      "Epoch  54 0.7476 0.7447265625\n",
      "Epoch  55 0.7513 0.73984375\n",
      "Epoch  56 0.7533 0.75546875\n",
      "Epoch  57 0.7584 0.7267578125\n",
      "Epoch  58 0.7619 0.7529296875\n",
      "Epoch  59 0.7653 0.74921875\n",
      "Epoch  60 0.7661 0.74765625\n",
      "Epoch  61 0.7727 0.7650390625\n",
      "Epoch  62 0.7723 0.765234375\n",
      "Epoch  63 0.7744 0.755859375\n",
      "Epoch  64 0.776 0.773828125\n",
      "Epoch  65 0.7801 0.7765625\n",
      "Epoch  66 0.7796 0.7751953125\n",
      "Epoch  67 0.7835 0.7818359375\n",
      "Epoch  68 0.7863 0.780859375\n",
      "Epoch  69 0.7875 0.765234375\n",
      "Epoch  70 0.7867 0.765234375\n",
      "Epoch  71 0.7903 0.7685546875\n",
      "Epoch  72 0.7933 0.7896484375\n",
      "Epoch  73 0.7912 0.77734375\n",
      "Epoch  74 0.7956 0.7865234375\n",
      "Epoch  75 0.8139 0.8146484375\n",
      "Epoch  76 0.8185 0.813671875\n",
      "Epoch  77 0.8201 0.8115234375\n",
      "Epoch  78 0.8206 0.8119140625\n",
      "Epoch  79 0.8225 0.81328125\n",
      "Epoch  80 0.8211 0.81484375\n",
      "Epoch  81 0.8203 0.8125\n",
      "Epoch  82 0.8238 0.8173828125\n",
      "Epoch  83 0.8241 0.816015625\n",
      "Epoch  84 0.8235 0.8142578125\n",
      "Epoch  85 0.8245 0.8138671875\n",
      "Epoch  86 0.8224 0.816796875\n",
      "Epoch  87 0.8243 0.821875\n",
      "Epoch  88 0.8266 0.8181640625\n",
      "Epoch  89 0.8252 0.8166015625\n",
      "Epoch  90 0.8228 0.8203125\n",
      "Epoch  91 0.8254 0.8203125\n",
      "Epoch  92 0.8279 0.817578125\n",
      "Epoch  93 0.8268 0.82109375\n",
      "Epoch  94 0.8274 0.814453125\n",
      "Epoch  95 0.8275 0.8234375\n",
      "Epoch  96 0.8288 0.813671875\n",
      "Epoch  97 0.8313 0.8244140625\n",
      "Epoch  98 0.8295 0.8255859375\n",
      "Epoch  99 0.8285 0.82109375\n",
      "Finished Training\n",
      "CPU times: user 16min 33s, sys: 3min 58s, total: 20min 32s\n",
      "Wall time: 21min 28s\n"
     ]
    },
    {
     "data": {
      "image/png": "[encoded data removed]",
      "text/plain": [
       "<matplotlib.figure.Figure at 0x7f85125a6780>"
      ]
     },
     "metadata": {},
     "output_type": "display_data"
    }
   ],
   "source": [
    "resnet = CifarResNet()\n",
    "%time train_network(resnet, torch.device(DEVICE))"
   ]
  },
  {
   "cell_type": "markdown",
   "metadata": {},
   "source": [
    "# Важно переключить сеть в режим eval - иначе dropout будет работать некорректно"
   ]
  },
  {
   "cell_type": "code",
   "execution_count": 36,
   "metadata": {
    "collapsed": true
   },
   "outputs": [],
   "source": [
    "def make_solution(a_net, a_device):\n",
    "    res = []\n",
    "    net = a_net.eval()\n",
    "    for item in dataloader_test_norm:\n",
    "        inputs = item.to(a_device)\n",
    "        outputs = net(inputs) \n",
    "\n",
    "        res += prediction2classes(outputs)\n",
    "        torch.cuda.empty_cache()\n",
    "    return res"
   ]
  },
  {
   "cell_type": "code",
   "execution_count": 37,
   "metadata": {
    "collapsed": true
   },
   "outputs": [],
   "source": [
    "my_solution = make_solution(resnet, DEVICE)"
   ]
  },
  {
   "cell_type": "code",
   "execution_count": 38,
   "metadata": {
    "collapsed": true
   },
   "outputs": [],
   "source": [
    "with open('my_solution.csv', 'w') as fout:\n",
    "    print('Id', 'Prediction', sep=',', file=fout)\n",
    "    for i, prediction in enumerate(my_solution):\n",
    "        print(i, prediction, sep=',', file=fout)"
   ]
  }
 ],
 "metadata": {
  "kernelspec": {
   "display_name": "Python 3",
   "language": "python",
   "name": "python3"
  },
  "language_info": {
   "codemirror_mode": {
    "name": "ipython",
    "version": 3
   },
   "file_extension": ".py",
   "mimetype": "text/x-python",
   "name": "python",
   "nbconvert_exporter": "python",
   "pygments_lexer": "ipython3",
   "version": "3.6.8"
  }
 },
 "nbformat": 4,
 "nbformat_minor": 1
}
