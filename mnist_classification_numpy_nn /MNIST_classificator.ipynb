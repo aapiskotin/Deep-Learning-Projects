{
 "cells": [
  {
   "cell_type": "code",
   "execution_count": 1,
   "metadata": {},
   "outputs": [],
   "source": [
    "import numpy as np\n",
    "import matplotlib.pyplot as plt\n",
    "import pickle\n",
    "%matplotlib inline"
   ]
  },
  {
   "cell_type": "code",
   "execution_count": 2,
   "metadata": {},
   "outputs": [],
   "source": [
    "np.random.seed(13)"
   ]
  },
  {
   "cell_type": "code",
   "execution_count": 3,
   "metadata": {},
   "outputs": [],
   "source": [
    "# класс one-hot encoder'а для MNIST\n",
    "class OneHotEncoder:\n",
    "    def __init__(self):\n",
    "        self.transform_mapping = np.zeros((10,10))\n",
    "        for i in range(self.transform_mapping.shape[0]):\n",
    "            self.transform_mapping[i][i] = 1.0\n",
    "    def transform(self, y):\n",
    "        return self.transform_mapping[int(y)]"
   ]
  },
  {
   "cell_type": "code",
   "execution_count": 4,
   "metadata": {},
   "outputs": [],
   "source": [
    "def make_submission(X_test, net, fname=\"my_submission.csv\"):\n",
    "    with open(fname,'w') as fout:\n",
    "        fout.write('Id,Category')\n",
    "        for i in range(X_test.shape[0]):\n",
    "            y_h = net.forward(X_test[i])\n",
    "            y = np.argmax(y_h)\n",
    "            fout.write(\"\\n{},{}\".format(i, int(y)))"
   ]
  },
  {
   "cell_type": "code",
   "execution_count": 5,
   "metadata": {},
   "outputs": [],
   "source": [
    "# внимание, тут Y_test в обычном формате(не onehot)\n",
    "def compute_acc(X_test, Y_test, net):\n",
    "    acc = 0.0\n",
    "    for i in range(X_test.shape[0]):\n",
    "        y_h = net.forward(X_test[i])\n",
    "        y = np.argmax(y_h)\n",
    "        if(y == Y_test[i]):\n",
    "            acc += 1.0\n",
    "    return acc / Y_test.shape[0]"
   ]
  },
  {
   "cell_type": "code",
   "execution_count": 6,
   "metadata": {},
   "outputs": [],
   "source": [
    "train_data = None\n",
    "test_data = None\n",
    "encoder = OneHotEncoder()\n",
    "with open('data_train.pickle','rb') as fin:\n",
    "    train_data = pickle.load(fin)\n",
    "with open('data_test_no_labels.pickle','rb') as fin:\n",
    "    test_data = pickle.load(fin)\n",
    "    \n",
    "X_train = train_data['data']\n",
    "Y_train = train_data['target']\n",
    "Y_train_oh = np.array(list(map(lambda x : encoder.transform(x), Y_train)))\n",
    "\n",
    "\n",
    "X_test = test_data['data']"
   ]
  },
  {
   "cell_type": "code",
   "execution_count": 7,
   "metadata": {},
   "outputs": [
    {
     "data": {
      "image/png": "[encoded data removed]",
      "text/plain": [
       "<Figure size 432x288 with 16 Axes>"
      ]
     },
     "metadata": {},
     "output_type": "display_data"
    }
   ],
   "source": [
    "n=4\n",
    "for i in range(n*n):\n",
    "    plt.subplot(n,n,i+1)\n",
    "    I = train_data['data'][np.random.randint(0, X_train.shape[0]),:]\n",
    "    I = I.reshape((28, 28))\n",
    "    plt.imshow(I, cmap='gray')"
   ]
  },
  {
   "cell_type": "code",
   "execution_count": 8,
   "metadata": {},
   "outputs": [],
   "source": [
    "# Подготовка датасета\n",
    "mean = np.mean(X_train, axis=0)\n",
    "std = np.std(X_train, axis=0)\n",
    "X_train = (X_train - mean)/(std + 0.00001)\n",
    "import sklearn.model_selection\n",
    "x_train, x_valid, y_train, y_valid = sklearn.model_selection.train_test_split(X_train, Y_train, test_size=0.2)\n",
    "y_train_oh = np.array(list(map(lambda x : encoder.transform(x), y_train)))\n",
    "y_valid_oh = np.array(list(map(lambda x : encoder.transform(x), y_valid)))"
   ]
  },
  {
   "cell_type": "code",
   "execution_count": 9,
   "metadata": {},
   "outputs": [],
   "source": [
    "class Dense:\n",
    "    def __init__(self, in_size, out_size, rlambda = 0.0):\n",
    "        self.W = np.random.normal(scale=1, size=(out_size, in_size)) * np.sqrt(2/(out_size + in_size))\n",
    "        self.b = np.zeros(out_size)\n",
    "        self.rlambda = rlambda\n",
    "        \n",
    "    def forward(self, x):\n",
    "        self.x = x\n",
    "        return np.dot(self.W, x) + self.b\n",
    "    \n",
    "    def get_reg_loss(self):\n",
    "        return 0.5 * self.rlambda * (np.linalg.norm(self.W, ord='fro') ** 2)\n",
    "    \n",
    "    def backward(self, dz, lr=0.001):\n",
    "        self.dW = np.outer(dz, self.x)\n",
    "        self.db = dz\n",
    "        self.dx = np.matmul(dz, self.W) \n",
    "        if(self.rlambda != 0):\n",
    "            self.dW += self.rlambda * self.W\n",
    "        self.W = self.W - lr * self.dW\n",
    "        self.b = self.b - lr * self.db\n",
    "        return self.dx"
   ]
  },
  {
   "cell_type": "code",
   "execution_count": 10,
   "metadata": {},
   "outputs": [],
   "source": [
    "class Dropout:\n",
    "    def __init__(self, p = 0.5):\n",
    "        self.p = p\n",
    "        self.train = True\n",
    "    \n",
    "    def set_train(self, train = True):\n",
    "        self.train = train\n",
    "    \n",
    "    def forward(self, x):\n",
    "        self.x = x\n",
    "        if not self.train:\n",
    "            self.mask = np.ones(*x.shape)\n",
    "            return x\n",
    "        self.mask = ( np.random.rand(*x.shape) > self.p ) / (1.0 - self.p)\n",
    "        return x * self.mask\n",
    "        \n",
    "    def backward(self, dz, lr=0.001):\n",
    "        return dz * self.mask"
   ]
  },
  {
   "cell_type": "code",
   "execution_count": 11,
   "metadata": {},
   "outputs": [],
   "source": [
    "def softmax_func(x):\n",
    "    x = x - np.amax(x)\n",
    "    return np.exp(x) / np.sum(np.exp(x))\n",
    "    \n",
    "class Softmax:\n",
    "    def forward(self, x):\n",
    "        self.x = x\n",
    "        self.softmax = softmax_func(x)\n",
    "        return self.softmax\n",
    "    \n",
    "    def backward(self, dz, lr = 0.001):\n",
    "        ds = - np.outer(self.softmax, self.softmax) + np.diag(self.softmax)\n",
    "        return np.dot(ds, dz)"
   ]
  },
  {
   "cell_type": "code",
   "execution_count": 12,
   "metadata": {},
   "outputs": [],
   "source": [
    "class Max:\n",
    "    def forward(self, x):\n",
    "        self.x = x\n",
    "        return np.maximum(0, x)\n",
    "    \n",
    "    def backward(self, dz, lr=0.1):\n",
    "        dz[self.x < 0] = 0\n",
    "        return dz"
   ]
  },
  {
   "cell_type": "code",
   "execution_count": 13,
   "metadata": {},
   "outputs": [],
   "source": [
    "class CrossEntropy:\n",
    "    def forward(self, y_true, y_hat):\n",
    "        self.y_true = y_true\n",
    "        self.y_hat = y_hat\n",
    "        return -np.sum( y_true * np.log(y_hat) )\n",
    "    \n",
    "    def backward(self, dz, lr=0.001):\n",
    "        return dz * -1. * self.y_true/self.y_hat"
   ]
  },
  {
   "cell_type": "code",
   "execution_count": 14,
   "metadata": {},
   "outputs": [],
   "source": [
    "def compute_loss(X, Y_true, net, loss):\n",
    "    n = X.shape[0]\n",
    "    L_cur = 0\n",
    "    for i in range(n):\n",
    "        y_pred = net.forward(X[i])\n",
    "        L_cur += loss.forward(Y_true[i], y_pred)\n",
    "    return L_cur / n"
   ]
  },
  {
   "cell_type": "code",
   "execution_count": 15,
   "metadata": {},
   "outputs": [],
   "source": [
    "# Опеределение самой сети\n",
    "class MnistNet:\n",
    "    def __init__(self, in_size, out_size, rlambda):\n",
    "        self.drop1 = Dropout(0.5)\n",
    "        self.dense1 = Dense(in_size, 400, rlambda)\n",
    "        self.max1 = Max()\n",
    "        self.drop2 = Dropout(0.5)\n",
    "        self.dense2 = Dense(400, out_size, rlambda)\n",
    "        self.smax1 = Softmax()\n",
    "        \n",
    "    def forward(self, x):\n",
    "        net = self.drop1.forward(x)\n",
    "        net = self.dense1.forward(net)\n",
    "        net = self.max1.forward(net)\n",
    "        net = self.drop2.forward(net)\n",
    "        net = self.dense2.forward(net)\n",
    "        net = self.smax1.forward(net)\n",
    "        return net\n",
    "    \n",
    "    def backward(self, dz, lr):\n",
    "        dz = self.smax1.backward(dz, lr)\n",
    "        dz = self.dense2.backward(dz,lr)\n",
    "        dz = self.drop2.backward(dz, lr)\n",
    "        dz = self.max1.backward(dz, lr)\n",
    "        dz = self.dense1.backward(dz, lr)\n",
    "        dz = self.drop1.backward(dz,lr)\n",
    "        return dz"
   ]
  },
  {
   "cell_type": "code",
   "execution_count": 16,
   "metadata": {},
   "outputs": [
    {
     "name": "stdout",
     "output_type": "stream",
     "text": [
      "0 | Time: 0:02:22.137371 | Acc. train: 0.919404761904762 | Acc. test: 0.9165714285714286\n",
      "1 | Time: 0:02:21.072644 | Acc. train: 0.9305476190476191 | Acc. test: 0.9251428571428572\n",
      "2 | Time: 0:02:22.412141 | Acc. train: 0.9412142857142857 | Acc. test: 0.9337142857142857\n",
      "3 | Time: 0:02:20.131350 | Acc. train: 0.9478571428571428 | Acc. test: 0.9400952380952381\n",
      "4 | Time: 0:02:20.008522 | Acc. train: 0.9523809523809523 | Acc. test: 0.9448571428571428\n",
      "5 | Time: 0:02:20.224433 | Acc. train: 0.955952380952381 | Acc. test: 0.9486666666666667\n",
      "6 | Time: 0:02:21.502270 | Acc. train: 0.9588333333333333 | Acc. test: 0.9495238095238095\n",
      "7 | Time: 0:03:00.291571 | Acc. train: 0.9614047619047619 | Acc. test: 0.9536190476190476\n",
      "8 | Time: 0:02:23.092915 | Acc. train: 0.9633571428571429 | Acc. test: 0.9542857142857143\n",
      "9 | Time: 0:02:46.725026 | Acc. train: 0.9667142857142857 | Acc. test: 0.9572380952380952\n",
      "10 | Time: 0:03:40.237206 | Acc. train: 0.9682857142857143 | Acc. test: 0.9583809523809523\n",
      "11 | Time: 0:03:07.185835 | Acc. train: 0.9688095238095238 | Acc. test: 0.9588571428571429\n",
      "12 | Time: 0:03:02.716540 | Acc. train: 0.970047619047619 | Acc. test: 0.961047619047619\n",
      "13 | Time: 0:02:56.404881 | Acc. train: 0.9716428571428571 | Acc. test: 0.9615238095238096\n",
      "14 | Time: 0:02:56.534150 | Acc. train: 0.9730714285714286 | Acc. test: 0.9647619047619047\n",
      "15 | Time: 0:02:54.544859 | Acc. train: 0.9735 | Acc. test: 0.9623809523809523\n",
      "16 | Time: 0:02:55.133333 | Acc. train: 0.9740238095238095 | Acc. test: 0.9641904761904762\n",
      "17 | Time: 0:03:00.559335 | Acc. train: 0.9743571428571428 | Acc. test: 0.9639047619047619\n",
      "18 | Time: 0:03:03.623780 | Acc. train: 0.9766428571428571 | Acc. test: 0.9663809523809523\n",
      "19 | Time: 0:02:59.657545 | Acc. train: 0.9765714285714285 | Acc. test: 0.9658095238095238\n",
      "20 | Time: 0:03:02.368211 | Acc. train: 0.9782380952380952 | Acc. test: 0.9676190476190476\n",
      "21 | Time: 0:02:56.901589 | Acc. train: 0.9782142857142857 | Acc. test: 0.9673333333333334\n",
      "22 | Time: 0:02:45.626635 | Acc. train: 0.9792857142857143 | Acc. test: 0.9688571428571429\n",
      "23 | Time: 0:02:20.612588 | Acc. train: 0.9795 | Acc. test: 0.9675238095238096\n",
      "24 | Time: 0:02:20.640245 | Acc. train: 0.9794761904761905 | Acc. test: 0.9681904761904762\n",
      "25 | Time: 0:02:20.022343 | Acc. train: 0.9792380952380952 | Acc. test: 0.9689523809523809\n",
      "26 | Time: 0:02:20.327210 | Acc. train: 0.9807857142857143 | Acc. test: 0.9688571428571429\n",
      "27 | Time: 0:02:22.179742 | Acc. train: 0.9818095238095238 | Acc. test: 0.97\n",
      "28 | Time: 0:02:20.464986 | Acc. train: 0.9817380952380952 | Acc. test: 0.9717142857142858\n",
      "29 | Time: 0:02:20.185934 | Acc. train: 0.9813095238095239 | Acc. test: 0.9702857142857143\n"
     ]
    }
   ],
   "source": [
    "# Здесь процедура обучения\n",
    "net = MnistNet(x_train.shape[1], y_train_oh.shape[1], 0.0005)\n",
    "net.drop1.set_train(True)\n",
    "loss = CrossEntropy()\n",
    "lr = 0.0005\n",
    "eras = 30\n",
    "L_train_dropout = [0.] * eras\n",
    "L_train = [0.] * eras\n",
    "L_valid = [0.] * eras\n",
    "Acc_train = [0.] * eras\n",
    "Acc_train_dropout = [0.] * eras\n",
    "Acc_valid = [0.] * eras\n",
    "\n",
    "import datetime\n",
    "for iter in range(eras):\n",
    "    t1 = datetime.datetime.now()\n",
    "    L_train_cur = 0.\n",
    "    net.drop1.set_train(True)\n",
    "    net.drop2.set_train(True)\n",
    "    sh = list(range(x_train.shape[0]))\n",
    "    np.random.shuffle(sh)\n",
    "    for i in range(x_train.shape[0]):\n",
    "        x = x_train[sh[i]]\n",
    "        y_true = y_train_oh[sh[i]]\n",
    "        y_pred = net.forward(x)\n",
    "        L = loss.forward(y_true, y_pred)\n",
    "        L_train_cur += L\n",
    "        dz = loss.backward(1, lr)\n",
    "        dz = net.backward(dz, lr)\n",
    "    L_train_cur /= y_train_oh.shape[0]\n",
    "    L_train_dropout[iter] = L_train_cur\n",
    "    Acc_train_dropout[iter] = compute_acc(x_train, y_train, net)\n",
    "    net.drop1.set_train(False)\n",
    "    net.drop2.set_train(False)\n",
    "    L_train[iter] = compute_loss(x_train, y_train_oh, net, loss)\n",
    "    Acc_train[iter] = compute_acc(x_train, y_train, net)\n",
    "    L_valid_cur = 0.\n",
    "    for i in range(x_valid.shape[0]):\n",
    "        x = x_valid[i]\n",
    "        y_true = y_valid_oh[i]\n",
    "        y_pred = net.forward(x)\n",
    "        L = loss.forward(y_true, y_pred)\n",
    "        L_valid_cur += L\n",
    "    L_valid_cur /= y_valid_oh.shape[0]\n",
    "    L_valid[iter] = L_valid_cur\n",
    "    Acc_valid[iter] = compute_acc(x_valid, y_valid, net)\n",
    "    t2 = datetime.datetime.now()\n",
    "    print(\"{} | Time: {} | Acc. train: {} | Acc. test: {}\".format(iter, t2 - t1, Acc_train[iter], Acc_valid[iter]))"
   ]
  },
  {
   "cell_type": "code",
   "execution_count": 17,
   "metadata": {},
   "outputs": [
    {
     "data": {
      "text/plain": [
       "<matplotlib.legend.Legend at 0x1316a7198>"
      ]
     },
     "execution_count": 17,
     "metadata": {},
     "output_type": "execute_result"
    },
    {
     "data": {
      "image/png": "[encoded data removed]",
      "text/plain": [
       "<Figure size 432x288 with 1 Axes>"
      ]
     },
     "metadata": {},
     "output_type": "display_data"
    }
   ],
   "source": [
    "# Здесь необходимо отрисовать графики CrossEntropyLoss для обучающей и валидационной выборок\n",
    "plt.title('Loss')\n",
    "plt.plot(L_train_dropout, label=\"train(Dropout enabled)\")\n",
    "plt.plot(L_valid, label=\"test\")\n",
    "plt.plot(L_train, label=\"train(Dropout disabled)\")\n",
    "plt.legend()"
   ]
  },
  {
   "cell_type": "code",
   "execution_count": 18,
   "metadata": {},
   "outputs": [
    {
     "data": {
      "text/plain": [
       "<matplotlib.legend.Legend at 0x117ea2dd8>"
      ]
     },
     "execution_count": 18,
     "metadata": {},
     "output_type": "execute_result"
    },
    {
     "data": {
      "image/png": "[encoded data removed]",
      "text/plain": [
       "<Figure size 432x288 with 1 Axes>"
      ]
     },
     "metadata": {},
     "output_type": "display_data"
    }
   ],
   "source": [
    "plt.title('Accuracy')\n",
    "plt.plot(Acc_train, label=\"train(Dropout disabled)\")\n",
    "plt.plot(Acc_valid, label=\"test\")\n",
    "plt.plot(Acc_train_dropout, label=\"train(Dropout Enabled)\")\n",
    "plt.legend()"
   ]
  },
  {
   "cell_type": "code",
   "execution_count": 19,
   "metadata": {},
   "outputs": [],
   "source": [
    "X_test_norm = (X_test - mean)/(std + 0.00001)"
   ]
  },
  {
   "cell_type": "code",
   "execution_count": 20,
   "metadata": {},
   "outputs": [],
   "source": [
    "# формируем сабмишшен и заливаем его на kaggle\n",
    "net.drop1.set_train(False)\n",
    "net.drop2.set_train(False)\n",
    "make_submission(X_test_norm, net)"
   ]
  }
 ],
 "metadata": {
  "kernelspec": {
   "display_name": "Python 3",
   "language": "python",
   "name": "python3"
  },
  "language_info": {
   "codemirror_mode": {
    "name": "ipython",
    "version": 3
   },
   "file_extension": ".py",
   "mimetype": "text/x-python",
   "name": "python",
   "nbconvert_exporter": "python",
   "pygments_lexer": "ipython3",
   "version": "3.6.5"
  }
 },
 "nbformat": 4,
 "nbformat_minor": 2
}
